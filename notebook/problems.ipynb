{
    "cells": [
        {
            "cell_type": "markdown",
            "id": "ac622319",
            "metadata": {},
            "source": [
                "# Descriptive statistics problems"
            ]
        },
        {
            "cell_type": "markdown",
            "id": "5e0ab0d5",
            "metadata": {},
            "source": [
                "### Exercise 1\n",
                "\n",
                "We will use NumPy to obtain information to describe statistically.\n",
                "\n",
                "- Generate an array of 100 elements following a normal distribution.\n",
                "- Generate an array of 100 elements following a chi-square distribution with 3 degrees of freedom.\n",
                "- Calculate the main metrics and statistical measures that best describe the two vectors."
            ]
        },
        {
            "cell_type": "code",
            "execution_count": 4,
            "id": "34720ab6",
            "metadata": {},
            "outputs": [
                {
                    "name": "stdout",
                    "output_type": "stream",
                    "text": [
                        "Vector normal: [-0.6642889  -0.58243083  0.33957949  0.59928871  1.08854011  0.0971784\n",
                        " -0.14233319  1.78174777  0.58812033  0.01073273  3.45561642 -1.15472934\n",
                        "  0.19112388 -0.06344524 -0.59200438 -1.49286144 -0.3939649   1.1335648\n",
                        "  0.18566709 -1.55803331 -0.30222236 -0.12513933  0.96300514 -0.63235675\n",
                        " -0.84279382 -0.69470718  0.24314128 -0.03002398  0.7117984  -0.26376484\n",
                        " -1.42394269 -1.30188645 -0.1552971  -0.01456133 -0.68170465  0.13268945\n",
                        " -0.43307568 -0.82580904 -0.2136654   0.40614204 -0.14074102 -1.59616897\n",
                        "  0.9901408   0.38208737  1.24644944 -0.45667786 -0.6721292  -0.31932946\n",
                        " -0.52890739  0.10996642 -0.52426015  0.12833396  0.50204388 -0.00507985\n",
                        " -0.05084296  0.57066971 -1.93430662  0.68609039  0.19194911 -1.52988998\n",
                        "  1.12097317  0.5853313   0.41298341 -1.20086509  2.79532593  1.04520511\n",
                        "  0.19512083 -0.85706782 -0.37375793 -0.34904345 -0.36149092 -1.59826654\n",
                        " -0.7412977   0.62049652  0.63085311 -0.40590516  0.70601968 -0.40185661\n",
                        "  0.49668159  0.91734238  1.49406248  0.29384555  1.02586797 -0.35180192\n",
                        "  0.02778302 -0.17324643 -0.38262811 -0.05937402 -0.00969992 -0.49260819\n",
                        " -1.8415606  -1.44746435  0.84927135  0.60637625 -1.0940482   0.88706611\n",
                        " -0.363922    0.7164748  -0.8420115  -1.23112043]\n",
                        "Vectir Chi^2: [ 6.15288277  3.17442237  1.80904845  2.21730371  3.34929123 14.30407579\n",
                        "  0.18847839  4.27163654  6.71171453  4.53714983  3.21790879  6.77238584\n",
                        "  0.38683788  3.756355    0.96364118  2.46062759 14.58698432  2.66797544\n",
                        "  1.04945206  2.92130183  3.28506781  0.78164335  0.73909367  5.76574104\n",
                        "  3.5082946   0.69462944  2.39265     1.53643619  1.41349468  2.99881618\n",
                        "  1.66507387  8.54824092  2.800827    2.39148522  6.51911726  0.07808664\n",
                        "  3.43214585  2.24286213  2.17671892  3.30644011  2.24020521  0.87140533\n",
                        "  1.8049519  10.52337691  1.61705519  2.07192636  0.53614159  3.3760316\n",
                        "  0.16321456  0.46582636  0.32973292  2.08356252  0.3535733   0.32996364\n",
                        "  2.86121207  0.32366107  2.02324405  2.07478791  0.79971098  1.20642083\n",
                        "  1.10875786  2.23985831 11.7565594   2.80486979  6.06174998  2.89117823\n",
                        "  0.98011499  0.51883877  5.12538571  0.47253639  1.14936506  4.37120891\n",
                        "  5.11894576  2.17689568  3.8928537   3.13832628  2.85481452  2.87889763\n",
                        "  2.64269537  0.34584079  1.30460354  2.24285368 10.80433067  0.51308804\n",
                        "  2.6837211   9.24663482  0.90861126  3.92289742  2.85271849  0.69127145\n",
                        "  5.39992577  1.64434297  0.88926856  6.65177315  5.34437011  2.00803854\n",
                        "  1.02716194  3.53822573  1.24654889  0.50116645]\n"
                    ]
                }
            ],
            "source": [
                "import numpy as np\n",
                "\n",
                "\n",
                "np.random.seed(95)\n",
                "\n",
                "array_normal = np.random.normal(size=100)\n",
                "array_chi = np.random.chisquare(3, 100)\n",
                "\n",
                "print(f\"Vector normal: {array_normal}\")\n",
                "print(f\"Vectir Chi^2: {array_chi}\")"
            ]
        },
        {
            "cell_type": "markdown",
            "id": "6ec18bf3",
            "metadata": {},
            "source": [
                "Medidas de tendencia central:"
            ]
        },
        {
            "cell_type": "code",
            "execution_count": 5,
            "id": "54190ec1",
            "metadata": {},
            "outputs": [
                {
                    "name": "stdout",
                    "output_type": "stream",
                    "text": [
                        "Media normal: -0.04759664750951678\n",
                        "Media chi^2: 3.0378358840255673\n",
                        "Mediana normal: -0.06140963113776003\n",
                        "Mediana Chi^2: 2.242857902763731\n",
                        "Moda normal: -0.6642888995524731\n",
                        "Moda Chi^2: 6.152882766665385\n"
                    ]
                }
            ],
            "source": [
                "import statistics as stats\n",
                "\n",
                "#media\n",
                "print(f\"Media normal: {stats.mean(array_normal)}\")\n",
                "print(f\"Media chi^2: {stats.mean(array_chi)}\")\n",
                "\n",
                "#mediana\n",
                "print(f\"Mediana normal: {stats.median(array_normal)}\")\n",
                "print(f\"Mediana Chi^2: {stats.median(array_chi)}\")\n",
                "\n",
                "#moda\n",
                "print(f\"Moda normal: {stats.mode(array_normal)}\")\n",
                "print(f\"Moda Chi^2: {stats.mode(array_chi)}\")"
            ]
        },
        {
            "cell_type": "markdown",
            "id": "c39812cd",
            "metadata": {},
            "source": [
                "Medidas de dispersión"
            ]
        },
        {
            "cell_type": "code",
            "execution_count": 6,
            "id": "9a2b2f93",
            "metadata": {},
            "outputs": [
                {
                    "name": "stdout",
                    "output_type": "stream",
                    "text": [
                        "Rango normal: 5.389923039524252\n",
                        "Rango Chi^2: 14.508897674585615\n",
                        "Varianza normal: 0.8315819273637587\n",
                        "Varianza Chi^2: 8.431922094546165\n",
                        "Desviación estándar normal: 0.9119111400590294\n",
                        "Desviación estándar Chi^2: 2.9037772115894436\n",
                        "Skewness normal: 0.6268800340825406\n",
                        "Skewness Chi^2: 1.9811653042127428\n",
                        "Kurtosis normal: 1.714580165731455\n",
                        "Kurtosis Chi^2: 4.325127689588461\n"
                    ]
                }
            ],
            "source": [
                "import statistics as stats\n",
                "from scipy.stats import skew, kurtosis\n",
                "\n",
                "# Rango\n",
                "rango_normal = np.ptp(array_normal)  # ptp = \"peak to peak\" (máximo - mínimo)\n",
                "rango_chi = np.ptp(array_chi)\n",
                "print(f\"Rango normal: {rango_normal}\")\n",
                "print(f\"Rango Chi^2: {rango_chi}\")\n",
                "\n",
                "## Varianza\n",
                "varianza_normal = np.var(array_normal, ddof=1)  # ddof=1 para varianza muestral\n",
                "varianza_chi = np.var(array_chi, ddof=1)\n",
                "print(f\"Varianza normal: {varianza_normal}\")\n",
                "print(f\"Varianza Chi^2: {varianza_chi}\")\n",
                "\n",
                "## Desviación estándar\n",
                "desviacion_normal = np.std(array_normal, ddof=1)  # ddof=1 para desviación muestral\n",
                "desviacion_chi = np.std(array_chi, ddof=1)\n",
                "print(f\"Desviación estándar normal: {desviacion_normal}\")\n",
                "print(f\"Desviación estándar Chi^2: {desviacion_chi}\")\n",
                "\n",
                "# Asimetría\n",
                "skewness_normal = skew(array_normal)\n",
                "skewness_chi = skew(array_chi)\n",
                "print(f\"Skewness normal: {skewness_normal}\")\n",
                "print(f\"Skewness Chi^2: {skewness_chi}\")\n",
                "\n",
                "## Curtosis\n",
                "kurtosis_normal = kurtosis(array_normal)\n",
                "kurtosis_chi = kurtosis(array_chi)\n",
                "print(f\"Kurtosis normal: {kurtosis_normal}\")\n",
                "print(f\"Kurtosis Chi^2: {kurtosis_chi}\")\n"
            ]
        },
        {
            "cell_type": "markdown",
            "id": "46c70c3d",
            "metadata": {},
            "source": [
                "### Exercise 2\n",
                "\n",
                "Write a Python program to calculate the standard deviation of the following data:\n",
                "\n",
                "```py\n",
                "data = [4, 2, 5, 8, 6]\n",
                "```"
            ]
        },
        {
            "cell_type": "code",
            "execution_count": 7,
            "id": "d590308e",
            "metadata": {},
            "outputs": [
                {
                    "name": "stdout",
                    "output_type": "stream",
                    "text": [
                        "Desviación estándar (usando NumPy): 2.23606797749979\n"
                    ]
                }
            ],
            "source": [
                "#Basado en lo visto en clase, lo más óptimo para resolver sería:\n",
                "\n",
                "data = [4, 2, 5, 8, 6]\n",
                "desviacion_estandar = np.std(data, ddof=1)  # ddof=1 para desviación estándar muestral\n",
                "\n",
                "# Mostrar el resultado\n",
                "print(f\"Desviación estándar (usando NumPy): {desviacion_estandar}\")"
            ]
        }
    ],
    "metadata": {
        "kernelspec": {
            "display_name": "Python 3",
            "language": "python",
            "name": "python3"
        },
        "language_info": {
            "codemirror_mode": {
                "name": "ipython",
                "version": 3
            },
            "file_extension": ".py",
            "mimetype": "text/x-python",
            "name": "python",
            "nbconvert_exporter": "python",
            "pygments_lexer": "ipython3",
            "version": "3.11.4"
        }
    },
    "nbformat": 4,
    "nbformat_minor": 5
}
